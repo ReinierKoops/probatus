{
 "cells": [
  {
   "cell_type": "markdown",
   "metadata": {},
   "source": [
    "# How to work with grouped data\n",
    "\n",
    "[![open in colab](https://colab.research.google.com/assets/colab-badge.svg)](https://colab.research.google.com/github/ing-bank/probatus/blob/master/docs/howto/grouped_data.ipynb)\n",
    "\n",
    "One of the often appearing properties of the Data Science problems is the natural grouping of the data. You could for instance have multiple samples for the same customer. In such case, you need to make sure that all samples from a given group are in the same fold e.g. in Cross-Validation.\n",
    "\n",
    "Let's prepare a dataset with groups."
   ]
  },
  {
   "cell_type": "code",
   "execution_count": null,
   "metadata": {},
   "outputs": [],
   "source": [
    "%%capture\n",
    "!pip install probatus"
   ]
  },
  {
   "cell_type": "code",
   "execution_count": 1,
   "metadata": {},
   "outputs": [
    {
     "data": {
      "text/plain": [
       "[0, 1, 2, 3, 4, 0, 1, 2, 3, 4]"
      ]
     },
     "execution_count": 1,
     "metadata": {},
     "output_type": "execute_result"
    }
   ],
   "source": [
    "from sklearn.datasets import make_classification\n",
    "\n",
    "X, y = make_classification(n_samples=100, n_features=10, random_state=42)\n",
    "groups = [i % 5 for i in range(100)]\n",
    "groups[:10]"
   ]
  },
  {
   "cell_type": "markdown",
   "metadata": {},
   "source": [
    "The integers in `groups` variable indicate the group id, to which a given sample belongs.\n",
    "\n",
    "One of the easiest ways to ensure that the data is split using the information about groups is using `from sklearn.model_selection import GroupKFold`. You can also read more about other ways of splitting data with groups in sklearn [here](https://scikit-learn.org/stable/modules/cross_validation.html#cross-validation-iterators-for-grouped-data)."
   ]
  },
  {
   "cell_type": "code",
   "execution_count": 2,
   "metadata": {},
   "outputs": [],
   "source": [
    "from sklearn.model_selection import GroupKFold\n",
    "\n",
    "cv = list(GroupKFold(n_splits=5).split(X, y, groups=groups))"
   ]
  },
  {
   "cell_type": "markdown",
   "metadata": {},
   "source": [
    "Such variable can be passed to the `cv` parameter in `probatus` as well as to hyperparameter optimization e.g. `RandomizedSearchCV` classes."
   ]
  },
  {
   "cell_type": "code",
   "execution_count": 3,
   "metadata": {},
   "outputs": [],
   "source": [
    "from sklearn.ensemble import RandomForestClassifier\n",
    "from sklearn.model_selection import RandomizedSearchCV\n",
    "\n",
    "from probatus.feature_elimination import ShapRFECV\n",
    "\n",
    "model = RandomForestClassifier(random_state=42)\n",
    "\n",
    "param_grid = {\n",
    "    \"n_estimators\": [5, 7, 10],\n",
    "    \"max_leaf_nodes\": [3, 5, 7, 10],\n",
    "}\n",
    "search = RandomizedSearchCV(model, param_grid, cv=cv, n_iter=1, random_state=42)\n",
    "\n",
    "shap_elimination = ShapRFECV(model=search, step=0.2, cv=cv, scoring=\"roc_auc\", n_jobs=3, random_state=42)\n",
    "report = shap_elimination.fit_compute(X, y)"
   ]
  },
  {
   "cell_type": "code",
   "execution_count": 4,
   "metadata": {},
   "outputs": [
    {
     "data": {
      "text/html": [
       "<div>\n",
       "<style scoped>\n",
       "    .dataframe tbody tr th:only-of-type {\n",
       "        vertical-align: middle;\n",
       "    }\n",
       "\n",
       "    .dataframe tbody tr th {\n",
       "        vertical-align: top;\n",
       "    }\n",
       "\n",
       "    .dataframe thead th {\n",
       "        text-align: right;\n",
       "    }\n",
       "</style>\n",
       "<table border=\"1\" class=\"dataframe\">\n",
       "  <thead>\n",
       "    <tr style=\"text-align: right;\">\n",
       "      <th></th>\n",
       "      <th>num_features</th>\n",
       "      <th>features_set</th>\n",
       "      <th>eliminated_features</th>\n",
       "      <th>train_metric_mean</th>\n",
       "      <th>train_metric_std</th>\n",
       "      <th>val_metric_mean</th>\n",
       "      <th>val_metric_std</th>\n",
       "    </tr>\n",
       "  </thead>\n",
       "  <tbody>\n",
       "    <tr>\n",
       "      <th>1</th>\n",
       "      <td>10</td>\n",
       "      <td>[0, 1, 2, 3, 4, 5, 6, 7, 8, 9]</td>\n",
       "      <td>[6, 7]</td>\n",
       "      <td>0.999562</td>\n",
       "      <td>0.000876</td>\n",
       "      <td>0.954945</td>\n",
       "      <td>0.090110</td>\n",
       "    </tr>\n",
       "    <tr>\n",
       "      <th>2</th>\n",
       "      <td>8</td>\n",
       "      <td>[0, 1, 2, 3, 4, 5, 8, 9]</td>\n",
       "      <td>[5]</td>\n",
       "      <td>0.999118</td>\n",
       "      <td>0.001081</td>\n",
       "      <td>0.945513</td>\n",
       "      <td>0.089606</td>\n",
       "    </tr>\n",
       "    <tr>\n",
       "      <th>3</th>\n",
       "      <td>7</td>\n",
       "      <td>[0, 1, 2, 3, 4, 8, 9]</td>\n",
       "      <td>[4]</td>\n",
       "      <td>0.999559</td>\n",
       "      <td>0.000548</td>\n",
       "      <td>0.928749</td>\n",
       "      <td>0.137507</td>\n",
       "    </tr>\n",
       "    <tr>\n",
       "      <th>4</th>\n",
       "      <td>6</td>\n",
       "      <td>[0, 1, 2, 3, 8, 9]</td>\n",
       "      <td>[8]</td>\n",
       "      <td>0.999179</td>\n",
       "      <td>0.001051</td>\n",
       "      <td>0.969288</td>\n",
       "      <td>0.058854</td>\n",
       "    </tr>\n",
       "    <tr>\n",
       "      <th>5</th>\n",
       "      <td>5</td>\n",
       "      <td>[0, 1, 2, 3, 9]</td>\n",
       "      <td>[9]</td>\n",
       "      <td>0.999748</td>\n",
       "      <td>0.000237</td>\n",
       "      <td>0.961767</td>\n",
       "      <td>0.066540</td>\n",
       "    </tr>\n",
       "    <tr>\n",
       "      <th>6</th>\n",
       "      <td>4</td>\n",
       "      <td>[0, 1, 2, 3]</td>\n",
       "      <td>[1]</td>\n",
       "      <td>0.999433</td>\n",
       "      <td>0.000700</td>\n",
       "      <td>0.950816</td>\n",
       "      <td>0.090982</td>\n",
       "    </tr>\n",
       "    <tr>\n",
       "      <th>7</th>\n",
       "      <td>3</td>\n",
       "      <td>[0, 2, 3]</td>\n",
       "      <td>[0]</td>\n",
       "      <td>0.999120</td>\n",
       "      <td>0.000729</td>\n",
       "      <td>0.970596</td>\n",
       "      <td>0.051567</td>\n",
       "    </tr>\n",
       "    <tr>\n",
       "      <th>8</th>\n",
       "      <td>2</td>\n",
       "      <td>[2, 3]</td>\n",
       "      <td>[3]</td>\n",
       "      <td>0.999496</td>\n",
       "      <td>0.000617</td>\n",
       "      <td>0.938639</td>\n",
       "      <td>0.117736</td>\n",
       "    </tr>\n",
       "    <tr>\n",
       "      <th>9</th>\n",
       "      <td>1</td>\n",
       "      <td>[2]</td>\n",
       "      <td>[]</td>\n",
       "      <td>0.998424</td>\n",
       "      <td>0.001819</td>\n",
       "      <td>0.938339</td>\n",
       "      <td>0.097936</td>\n",
       "    </tr>\n",
       "  </tbody>\n",
       "</table>\n",
       "</div>"
      ],
      "text/plain": [
       "   num_features                    features_set eliminated_features  \\\n",
       "1            10  [0, 1, 2, 3, 4, 5, 6, 7, 8, 9]              [6, 7]   \n",
       "2             8        [0, 1, 2, 3, 4, 5, 8, 9]                 [5]   \n",
       "3             7           [0, 1, 2, 3, 4, 8, 9]                 [4]   \n",
       "4             6              [0, 1, 2, 3, 8, 9]                 [8]   \n",
       "5             5                 [0, 1, 2, 3, 9]                 [9]   \n",
       "6             4                    [0, 1, 2, 3]                 [1]   \n",
       "7             3                       [0, 2, 3]                 [0]   \n",
       "8             2                          [2, 3]                 [3]   \n",
       "9             1                             [2]                  []   \n",
       "\n",
       "   train_metric_mean  train_metric_std  val_metric_mean  val_metric_std  \n",
       "1           0.999562          0.000876         0.954945        0.090110  \n",
       "2           0.999118          0.001081         0.945513        0.089606  \n",
       "3           0.999559          0.000548         0.928749        0.137507  \n",
       "4           0.999179          0.001051         0.969288        0.058854  \n",
       "5           0.999748          0.000237         0.961767        0.066540  \n",
       "6           0.999433          0.000700         0.950816        0.090982  \n",
       "7           0.999120          0.000729         0.970596        0.051567  \n",
       "8           0.999496          0.000617         0.938639        0.117736  \n",
       "9           0.998424          0.001819         0.938339        0.097936  "
      ]
     },
     "execution_count": 4,
     "metadata": {},
     "output_type": "execute_result"
    }
   ],
   "source": [
    "report"
   ]
  }
 ],
 "metadata": {
  "kernelspec": {
   "display_name": "Python 3",
   "language": "python",
   "name": "python3"
  },
  "language_info": {
   "codemirror_mode": {
    "name": "ipython",
    "version": 3
   },
   "file_extension": ".py",
   "mimetype": "text/x-python",
   "name": "python",
   "nbconvert_exporter": "python",
   "pygments_lexer": "ipython3",
   "version": "3.10.13"
  }
 },
 "nbformat": 4,
 "nbformat_minor": 4
}
